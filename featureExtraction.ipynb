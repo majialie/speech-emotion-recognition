{
 "cells": [
  {
   "cell_type": "code",
   "execution_count": null,
   "metadata": {},
   "outputs": [],
   "source": [
    "import os\n",
    "import glob\n",
    "import subprocess\n",
    "import scipy\n",
    "from collections import defaultdict\n",
    "import numpy as np\n",
    "import sklearn\n",
    "from multiprocessing import Pool\n",
    "from functools import partial\n",
    "import matlab\n",
    "import matlab.engine\n",
    "import librosa\n",
    "import matplotlib.pyplot as plt"
   ]
  },
  {
   "cell_type": "markdown",
   "metadata": {},
   "source": [
    "# Data preprocess"
   ]
  },
  {
   "cell_type": "code",
   "execution_count": null,
   "metadata": {},
   "outputs": [],
   "source": [
    "# emotion = ['exc', 'ang', 'sad', 'sur', 'fru', 'hap', 'neu']\n",
    "emotions = ['ang', 'exc', 'hap', 'sad', 'neu']\n",
    "emotion2idx = {}\n",
    "emotion2idx['neu'] = 0\n",
    "emotion2idx['hap'] = 1\n",
    "emotion2idx['exc'] = 1\n",
    "emotion2idx['ang'] = 2\n",
    "emotion2idx['sad'] = 3\n",
    "# for idx, emo in enumerate(emotions):\n",
    "#     emotion2idx[emo] = idx"
   ]
  },
  {
   "cell_type": "code",
   "execution_count": null,
   "metadata": {},
   "outputs": [],
   "source": [
    "dataset_dir = \"./data/IEMOCAP\"\n",
    "if not os.path.exists(dataset_dir):\n",
    "    os.makedirs(dataset_dir)\n",
    "dataset_list = os.path.join(dataset_dir, \"IEMOCAP.txt\")\n",
    "dataset_path = '/datasets/IEMOCAP_full_release/'\n",
    "sesstion_list = os.listdir(dataset_path)\n",
    "speaker_dict = defaultdict(list)\n",
    "emotion_dict = defaultdict(list)"
   ]
  },
  {
   "cell_type": "code",
   "execution_count": null,
   "metadata": {},
   "outputs": [],
   "source": [
    "with open(dataset_list, \"w\") as f:\n",
    "    for session in sesstion_list:\n",
    "        if not session.startswith(\"Session\"):\n",
    "            continue\n",
    "        path_to_wav = dataset_path + session + '/sentences/wav/'\n",
    "        path_to_emotions = dataset_path + session + '/dialog/EmoEvaluation/'\n",
    "        path_to_transcriptions = dataset_path + session + '/dialog/transcriptions/'\n",
    "        impro_evals = glob.glob(os.path.join(path_to_emotions, \"*impro*\"))\n",
    "        emotion_sta = {}\n",
    "        for impro_eval in impro_evals:\n",
    "            for line in open(impro_eval).readlines():\n",
    "                if not line.startswith(\"[\"):\n",
    "                    continue\n",
    "                cur_emo = line.strip().split(\"\\t\")[2]\n",
    "                if cur_emo not in emotions:\n",
    "                    continue\n",
    "                if cur_emo not in emotion_sta:\n",
    "                    emotion_sta[cur_emo] = 1\n",
    "                else:\n",
    "                    emotion_sta[cur_emo] += 1\n",
    "                cur_wav = path_to_wav + line.strip().split(\"\\t\")[1][:line.strip().split(\"\\t\")[1].rfind(\"_\")] + \\\n",
    "                          \"/\" + line.strip().split(\"\\t\")[1] + \".wav\"\n",
    "                wav_name = os.path.basename(cur_wav).split(\".\")[0]\n",
    "                line = \"{} {} {}\\n\" . format(wav_name, cur_wav, cur_emo)\n",
    "                f.write(line)\n",
    "                emotion_dict[cur_emo].append(line)\n",
    "\n",
    "        print(\"{} has done, statistics is {}\" . format(session, emotion_sta))"
   ]
  },
  {
   "cell_type": "markdown",
   "metadata": {},
   "source": [
    "# TEO feature extraction"
   ]
  },
  {
   "cell_type": "code",
   "execution_count": null,
   "metadata": {},
   "outputs": [],
   "source": [
    "sample_list = open(dataset_list).readlines()\n",
    "file_list = [line.strip().split(\" \")[1] for line in sample_list]\n",
    "\n",
    "critical_bands = [100, 200, 300, 400, 510, 630, 770, 920, 1080, 1270, 1480,\n",
    "                  1720, 2000, 2320, 2700, 3150, 3700]"
   ]
  },
  {
   "cell_type": "code",
   "execution_count": null,
   "metadata": {},
   "outputs": [],
   "source": [
    "def extract_TEO_feature(wav_file, output_dir, voiced_region=0):\n",
    "    try:\n",
    "        wav_name = os.path.basename(wav_file).split(\".\")[0]\n",
    "        output_path = os.path.join(output_dir, wav_name + \".fea\")\n",
    "        if os.path.exists(output_path):\n",
    "            return\n",
    "        lines = []\n",
    "        for i in range(1, len(critical_bands)):\n",
    "            band_range = [critical_bands[i-1], critical_bands[i]]\n",
    "            cur_feature = eng.teo_cb_auto_env(wav_file, matlab.double(band_range), voiced_region)\n",
    "            cur_fea = \" \" . join([str(fea) for fea in cur_feature[0]])\n",
    "            lines.append(cur_fea + \"\\n\")\n",
    "        with open(output_path, \"w\") as f:\n",
    "            f.writelines(lines)\n",
    "        print(\"{} has done.\" . format(wav_file))\n",
    "    except:\n",
    "        print(\"{} has some problem.\" . format(wav_file))"
   ]
  },
  {
   "cell_type": "code",
   "execution_count": null,
   "metadata": {},
   "outputs": [],
   "source": [
    "def extract_TEO_feature_thread(file_list, output_dir, voiced_region=0):\n",
    "    eng = matlab.engine.start_matlab()\n",
    "    for wav_file in file_list:\n",
    "        try:\n",
    "            wav_name = os.path.basename(wav_file).split(\".\")[0]\n",
    "            output_path = os.path.join(output_dir, wav_name + \".fea\")\n",
    "            if os.path.exists(output_path):\n",
    "                continue\n",
    "            lines = []\n",
    "            for i in range(1, len(critical_bands)):\n",
    "                band_range = [critical_bands[i-1], critical_bands[i]]\n",
    "                cur_feature = eng.teo_cb_auto_env(wav_file, matlab.double(band_range), voiced_region)\n",
    "                cur_fea = \" \" . join([str(fea) for fea in cur_feature[0]])\n",
    "                lines.append(cur_fea + \"\\n\")\n",
    "            with open(output_path, \"w\") as f:\n",
    "                f.writelines(lines)\n",
    "#         print(\"{} has done.\" . format(wav_file))\n",
    "        except:\n",
    "            print(\"{} has some problem.\" . format(wav_file))\n",
    "    eng.quit()"
   ]
  },
  {
   "cell_type": "code",
   "execution_count": null,
   "metadata": {},
   "outputs": [],
   "source": [
    "def extract_glottal_feature(file_list, output_dir):\n",
    "    eng = matlab.engine.start_matlab()\n",
    "    for wav_file in file_list:\n",
    "        wav_name = os.path.basename(wav_file).split(\".\")[0]\n",
    "        output_path = os.path.join(output_dir, wav_name + \".fea\")\n",
    "#             if os.path.exists(output_path):\n",
    "#                 continue\n",
    "        lines = []\n",
    "        [t_feature, dh12, psp, hrf] = eng.glottal_feature(wav_file, nargout=4)\n",
    "        for feature in t_feature:\n",
    "            cur_fea = \" \" . join([str(fea) for fea in feature])\n",
    "            lines.append(cur_fea + \"\\n\")\n",
    "        cur_fea = \" \" . join([str(fea) for fea in dh12[0]])\n",
    "        lines.append(cur_fea + \"\\n\")\n",
    "        cur_fea = \" \" . join([str(fea) for fea in psp[0]])\n",
    "        lines.append(cur_fea + \"\\n\")\n",
    "        cur_fea = \" \" . join([str(fea) for fea in hrf[0]])\n",
    "        lines.append(cur_fea + \"\\n\")            \n",
    "        with open(output_path, \"w\") as f:\n",
    "            f.writelines(lines)\n",
    "#         print(\"{} has done.\" . format(wav_file))\n",
    "#        except:\n",
    "#            print(\"{} has some problem.\" . format(wav_file))\n",
    "    eng.quit()"
   ]
  },
  {
   "cell_type": "code",
   "execution_count": null,
   "metadata": {},
   "outputs": [],
   "source": [
    "glottal_dir = '/home/cqm/codes/paper/data/glottal_feature_test'\n",
    "sample_list = open('/home/cqm/codes/paper/data/IEMOCAP/testwav.txt').readlines()\n",
    "file_list = [line.strip().split(\" \")[1] for line in sample_list]\n",
    "extract_glottal_feature(file_list, glottal_dir)"
   ]
  },
  {
   "cell_type": "code",
   "execution_count": null,
   "metadata": {},
   "outputs": [],
   "source": [
    "import math\n",
    "import threading\n",
    "sample_list = open(dataset_list).readlines()\n",
    "file_list = [line.strip().split(\" \")[1] for line in sample_list]\n",
    "def multi_thread_glottal(file_list, output_dir, num_thread):\n",
    "    if not os.path.exists(output_dir):\n",
    "        os.makedirs(output_dir)\n",
    "    num_per_thread = int(math.ceil(len(file_list) / float(num_thread)))\n",
    "    file_split = [file_list[i:i + num_per_thread] for i in range(0, len(file_list), num_per_thread)]\n",
    "    for i in range(num_thread):\n",
    "        cur_file_list = file_split[i]\n",
    "        t = threading.Thread(target=extract_glottal_feature, args=(file_list, output_dir))\n",
    "        t.start()\n",
    "\n",
    "glottal_dir = '/home/cqm/codes/paper/data/glottal_feature'\n",
    "multi_thread_glottal(file_list, glottal_dir, 16)"
   ]
  },
  {
   "cell_type": "code",
   "execution_count": null,
   "metadata": {},
   "outputs": [],
   "source": [
    "def extract_opensmile_feature(file_list, output_dir):\n",
    "    for wav_file in file_list:\n",
    "        try:\n",
    "            wav_name = os.path.basename(wav_file).split(\".\")[0]\n",
    "            fea_path = os.path.join(output_dir, wav_name + \".fea\")\n",
    "#             if os.path.exists(fea_path):\n",
    "#                 continue\n",
    "            lld_path = os.path.join(output_dir, wav_name + \".lld.fea\")\n",
    "            subprocess.Popen([\"/home/cqm/opensmile-2.3.0/SMILExtract\", \"-instname\", wav_name, \"-C\", \n",
    "                          \"/home/cqm/opensmile-2.3.0/config/gemaps/eGeMAPSv01a.conf\", \"-I\", wav_file,\n",
    "#                           \"/home/zyq/codes/paper/toolkits/opensmile-2.3.0/config/ComParE_2016.conf\", \"-I\", wav_file,\n",
    "                             \"-csvoutput\", fea_path, \"-D\", lld_path])\n",
    "        except:\n",
    "            print(\"{} has some problem.\" . format(wav_file))"
   ]
  },
  {
   "cell_type": "code",
   "execution_count": null,
   "metadata": {},
   "outputs": [],
   "source": [
    "import threading\n",
    "import math\n",
    "feature_dir = '/home/cqm/codes/paper/data/opensmile_org/'\n",
    "def multi_thread(file_list, output_dir, num_thread=8):\n",
    "    if not os.path.exists(feature_dir):\n",
    "        os.makedirs(feature_dir)\n",
    "    num_per_thread = int(math.ceil(len(file_list) / float(num_thread)))\n",
    "    file_split = [file_list[i:i + num_per_thread] for i in range(0, len(file_list), num_per_thread)]\n",
    "    for i in range(num_thread):\n",
    "        cur_file_list = file_split[i]\n",
    "        t = threading.Thread(target=extract_opensmile_feature, args=(cur_file_list, feature_dir))\n",
    "        t.start()\n",
    "multi_thread(file_list, feature_dir, 16)"
   ]
  },
  {
   "cell_type": "code",
   "execution_count": null,
   "metadata": {},
   "outputs": [],
   "source": [
    "TEO_dir = '/home/cqm/codes/paper/data/TEO_features'\n",
    "if not os.path.exists(TEO_dir):\n",
    "    os.makedirs(TEO_dir)\n",
    "eng = matlab.engine.start_matlab()\n",
    "for file in file_list:\n",
    "    extract_TEO_feature(file, TEO_dir, 0)\n",
    "eng.quit()"
   ]
  },
  {
   "cell_type": "code",
   "execution_count": null,
   "metadata": {},
   "outputs": [],
   "source": [
    "%run extractFeature.py"
   ]
  },
  {
   "cell_type": "code",
   "execution_count": null,
   "metadata": {},
   "outputs": [],
   "source": [
    "TEO_dir = '/home/cqm/codes/paper/data/TEO_features_voiced'\n",
    "if not os.path.exists(TEO_dir):\n",
    "    os.makedirs(TEO_dir)\n",
    "eng = matlab.engine.start_matlab()\n",
    "for file in file_list:\n",
    "    extract_TEO_feature(file, TEO_dir, 1)\n",
    "eng.quit()"
   ]
  },
  {
   "cell_type": "code",
   "execution_count": null,
   "metadata": {},
   "outputs": [],
   "source": []
  }
 ],
 "metadata": {
  "kernelspec": {
   "display_name": "Python 3",
   "language": "python",
   "name": "python3"
  },
  "language_info": {
   "codemirror_mode": {
    "name": "ipython",
    "version": 3
   },
   "file_extension": ".py",
   "mimetype": "text/x-python",
   "name": "python",
   "nbconvert_exporter": "python",
   "pygments_lexer": "ipython3",
   "version": "3.5.4"
  }
 },
 "nbformat": 4,
 "nbformat_minor": 2
}
